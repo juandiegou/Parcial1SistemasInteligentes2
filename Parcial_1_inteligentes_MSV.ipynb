{
  "nbformat": 4,
  "nbformat_minor": 0,
  "metadata": {
    "colab": {
      "provenance": []
    },
    "kernelspec": {
      "name": "python3",
      "display_name": "Python 3"
    },
    "language_info": {
      "name": "python"
    }
  },
  "cells": [
    {
      "cell_type": "markdown",
      "source": [
        "### Importando las librerias"
      ],
      "metadata": {
        "id": "JNPzwa-tqvZY"
      }
    },
    {
      "cell_type": "code",
      "execution_count": null,
      "metadata": {
        "id": "fR54fdcf-MAR"
      },
      "outputs": [],
      "source": [
        "import pandas as pd\n",
        "import numpy as np\n",
        "import matplotlib.pyplot as plt\n",
        "from matplotlib import colors\n",
        "from sklearn.model_selection import train_test_split\n",
        "from sklearn.metrics import confusion_matrix\n",
        "import seaborn as sb\n",
        "from sklearn.preprocessing import LabelEncoder\n",
        "from sklearn.preprocessing import MinMaxScaler\n",
        "from sklearn.preprocessing import StandardScaler\n",
        "from sklearn.svm import SVC\n",
        "from sklearn import metrics\n",
        "import plotly.express as px #bigotes\n",
        "#Importación grafica de matriz de confusión\n",
        "import seaborn as sns\n",
        "#nuevas importaciones\n",
        "from sklearn.metrics import precision_recall_fscore_support\n",
        "from sklearn.metrics import classification_report\n",
        "#importar librería para SMOTE\n",
        "import imblearn\n"
      ]
    },
    {
      "cell_type": "markdown",
      "source": [
        "### Cargando el dataset como csv\n",
        "\n",
        "\n"
      ],
      "metadata": {
        "id": "pfgEllEj-YiC"
      }
    },
    {
      "cell_type": "code",
      "execution_count": null,
      "metadata": {
        "colab": {
          "base_uri": "https://localhost:8080/",
          "height": 73
        },
        "id": "t_d9nnIEc1iv",
        "outputId": "5e8ec434-a2a6-496b-d21a-9cab2a1e8ef0"
      },
      "outputs": [
        {
          "output_type": "display_data",
          "data": {
            "text/plain": [
              "<IPython.core.display.HTML object>"
            ],
            "text/html": [
              "\n",
              "     <input type=\"file\" id=\"files-a02ab987-fdaa-4603-a76c-e2f23592ff47\" name=\"files[]\" multiple disabled\n",
              "        style=\"border:none\" />\n",
              "     <output id=\"result-a02ab987-fdaa-4603-a76c-e2f23592ff47\">\n",
              "      Upload widget is only available when the cell has been executed in the\n",
              "      current browser session. Please rerun this cell to enable.\n",
              "      </output>\n",
              "      <script>// Copyright 2017 Google LLC\n",
              "//\n",
              "// Licensed under the Apache License, Version 2.0 (the \"License\");\n",
              "// you may not use this file except in compliance with the License.\n",
              "// You may obtain a copy of the License at\n",
              "//\n",
              "//      http://www.apache.org/licenses/LICENSE-2.0\n",
              "//\n",
              "// Unless required by applicable law or agreed to in writing, software\n",
              "// distributed under the License is distributed on an \"AS IS\" BASIS,\n",
              "// WITHOUT WARRANTIES OR CONDITIONS OF ANY KIND, either express or implied.\n",
              "// See the License for the specific language governing permissions and\n",
              "// limitations under the License.\n",
              "\n",
              "/**\n",
              " * @fileoverview Helpers for google.colab Python module.\n",
              " */\n",
              "(function(scope) {\n",
              "function span(text, styleAttributes = {}) {\n",
              "  const element = document.createElement('span');\n",
              "  element.textContent = text;\n",
              "  for (const key of Object.keys(styleAttributes)) {\n",
              "    element.style[key] = styleAttributes[key];\n",
              "  }\n",
              "  return element;\n",
              "}\n",
              "\n",
              "// Max number of bytes which will be uploaded at a time.\n",
              "const MAX_PAYLOAD_SIZE = 100 * 1024;\n",
              "\n",
              "function _uploadFiles(inputId, outputId) {\n",
              "  const steps = uploadFilesStep(inputId, outputId);\n",
              "  const outputElement = document.getElementById(outputId);\n",
              "  // Cache steps on the outputElement to make it available for the next call\n",
              "  // to uploadFilesContinue from Python.\n",
              "  outputElement.steps = steps;\n",
              "\n",
              "  return _uploadFilesContinue(outputId);\n",
              "}\n",
              "\n",
              "// This is roughly an async generator (not supported in the browser yet),\n",
              "// where there are multiple asynchronous steps and the Python side is going\n",
              "// to poll for completion of each step.\n",
              "// This uses a Promise to block the python side on completion of each step,\n",
              "// then passes the result of the previous step as the input to the next step.\n",
              "function _uploadFilesContinue(outputId) {\n",
              "  const outputElement = document.getElementById(outputId);\n",
              "  const steps = outputElement.steps;\n",
              "\n",
              "  const next = steps.next(outputElement.lastPromiseValue);\n",
              "  return Promise.resolve(next.value.promise).then((value) => {\n",
              "    // Cache the last promise value to make it available to the next\n",
              "    // step of the generator.\n",
              "    outputElement.lastPromiseValue = value;\n",
              "    return next.value.response;\n",
              "  });\n",
              "}\n",
              "\n",
              "/**\n",
              " * Generator function which is called between each async step of the upload\n",
              " * process.\n",
              " * @param {string} inputId Element ID of the input file picker element.\n",
              " * @param {string} outputId Element ID of the output display.\n",
              " * @return {!Iterable<!Object>} Iterable of next steps.\n",
              " */\n",
              "function* uploadFilesStep(inputId, outputId) {\n",
              "  const inputElement = document.getElementById(inputId);\n",
              "  inputElement.disabled = false;\n",
              "\n",
              "  const outputElement = document.getElementById(outputId);\n",
              "  outputElement.innerHTML = '';\n",
              "\n",
              "  const pickedPromise = new Promise((resolve) => {\n",
              "    inputElement.addEventListener('change', (e) => {\n",
              "      resolve(e.target.files);\n",
              "    });\n",
              "  });\n",
              "\n",
              "  const cancel = document.createElement('button');\n",
              "  inputElement.parentElement.appendChild(cancel);\n",
              "  cancel.textContent = 'Cancel upload';\n",
              "  const cancelPromise = new Promise((resolve) => {\n",
              "    cancel.onclick = () => {\n",
              "      resolve(null);\n",
              "    };\n",
              "  });\n",
              "\n",
              "  // Wait for the user to pick the files.\n",
              "  const files = yield {\n",
              "    promise: Promise.race([pickedPromise, cancelPromise]),\n",
              "    response: {\n",
              "      action: 'starting',\n",
              "    }\n",
              "  };\n",
              "\n",
              "  cancel.remove();\n",
              "\n",
              "  // Disable the input element since further picks are not allowed.\n",
              "  inputElement.disabled = true;\n",
              "\n",
              "  if (!files) {\n",
              "    return {\n",
              "      response: {\n",
              "        action: 'complete',\n",
              "      }\n",
              "    };\n",
              "  }\n",
              "\n",
              "  for (const file of files) {\n",
              "    const li = document.createElement('li');\n",
              "    li.append(span(file.name, {fontWeight: 'bold'}));\n",
              "    li.append(span(\n",
              "        `(${file.type || 'n/a'}) - ${file.size} bytes, ` +\n",
              "        `last modified: ${\n",
              "            file.lastModifiedDate ? file.lastModifiedDate.toLocaleDateString() :\n",
              "                                    'n/a'} - `));\n",
              "    const percent = span('0% done');\n",
              "    li.appendChild(percent);\n",
              "\n",
              "    outputElement.appendChild(li);\n",
              "\n",
              "    const fileDataPromise = new Promise((resolve) => {\n",
              "      const reader = new FileReader();\n",
              "      reader.onload = (e) => {\n",
              "        resolve(e.target.result);\n",
              "      };\n",
              "      reader.readAsArrayBuffer(file);\n",
              "    });\n",
              "    // Wait for the data to be ready.\n",
              "    let fileData = yield {\n",
              "      promise: fileDataPromise,\n",
              "      response: {\n",
              "        action: 'continue',\n",
              "      }\n",
              "    };\n",
              "\n",
              "    // Use a chunked sending to avoid message size limits. See b/62115660.\n",
              "    let position = 0;\n",
              "    do {\n",
              "      const length = Math.min(fileData.byteLength - position, MAX_PAYLOAD_SIZE);\n",
              "      const chunk = new Uint8Array(fileData, position, length);\n",
              "      position += length;\n",
              "\n",
              "      const base64 = btoa(String.fromCharCode.apply(null, chunk));\n",
              "      yield {\n",
              "        response: {\n",
              "          action: 'append',\n",
              "          file: file.name,\n",
              "          data: base64,\n",
              "        },\n",
              "      };\n",
              "\n",
              "      let percentDone = fileData.byteLength === 0 ?\n",
              "          100 :\n",
              "          Math.round((position / fileData.byteLength) * 100);\n",
              "      percent.textContent = `${percentDone}% done`;\n",
              "\n",
              "    } while (position < fileData.byteLength);\n",
              "  }\n",
              "\n",
              "  // All done.\n",
              "  yield {\n",
              "    response: {\n",
              "      action: 'complete',\n",
              "    }\n",
              "  };\n",
              "}\n",
              "\n",
              "scope.google = scope.google || {};\n",
              "scope.google.colab = scope.google.colab || {};\n",
              "scope.google.colab._files = {\n",
              "  _uploadFiles,\n",
              "  _uploadFilesContinue,\n",
              "};\n",
              "})(self);\n",
              "</script> "
            ]
          },
          "metadata": {}
        },
        {
          "output_type": "stream",
          "name": "stdout",
          "text": [
            "Saving HCV-Egy-Data.csv to HCV-Egy-Data.csv\n"
          ]
        }
      ],
      "source": [
        "from google.colab import files\n",
        "import io\n",
        "archivo=files.upload()\n",
        "dataframe=pd.read_csv(io.BytesIO(archivo['HCV-Egy-Data.csv']),delimiter=\",\")"
      ]
    },
    {
      "cell_type": "markdown",
      "source": [
        "### Generando las copias de los dataframe"
      ],
      "metadata": {
        "id": "uDrFEax7uyjK"
      }
    },
    {
      "cell_type": "code",
      "execution_count": null,
      "metadata": {
        "id": "Vxl5-JaA5rZw"
      },
      "outputs": [],
      "source": [
        "dataframecopia=dataframe\n",
        "dataframecopia2=dataframe\n",
        "## dataframecopia"
      ]
    },
    {
      "cell_type": "markdown",
      "source": [
        "### Ahora se aplica SMOTE Y MSV"
      ],
      "metadata": {
        "id": "MI4cxXdkTIAY"
      }
    },
    {
      "cell_type": "code",
      "source": [
        "from imblearn.over_sampling import SMOTE\n",
        "y=dataframecopia['Baselinehistological staging']\n",
        "x=dataframecopia.drop(['Baselinehistological staging','Baseline histological Grading'],axis=1)\n",
        "\n",
        "num_rep=4\n",
        "datasets_equilibrados=[]\n",
        "for i in range(2**num_rep):\n",
        "  smote = SMOTE(random_state=i)\n",
        "  x_resampled, y_resampled= smote.fit_resample(x,y)\n",
        "  datasets_equilibrados.append({'x':x_resampled , 'y':y_resampled})\n",
        "\n",
        "x_combinados= pd.concat([data['x'] for data in datasets_equilibrados], axis=0)\n",
        "y_combinados= pd.concat([data['y'] for data in datasets_equilibrados], axis=0)\n",
        "XTrain,XTest,yTrain,yTest=train_test_split(x_combinados,y_combinados,test_size=0.2,random_state=6)\n",
        "#'poly', 'rbf', 'precomputed', 'linear', 'sigmoid'\n",
        "modelo=SVC(kernel='rbf',decision_function_shape='ovr',degree=27,gamma='auto',random_state=27)\n",
        "modelo.fit(XTrain,yTrain)\n",
        "yPredict=modelo.predict(XTest)\n",
        "print(\"Las predicciones son \")\n",
        "print(yPredict)\n",
        "print(\"Se esperaba \")\n",
        "print(yTest)\n",
        "print(\"Accuracy=\",metrics.accuracy_score(yTest,yPredict))\n"
      ],
      "metadata": {
        "colab": {
          "base_uri": "https://localhost:8080/"
        },
        "id": "tgDlEsUwXw_h",
        "outputId": "c6cc3495-ff7f-476d-aa14-d9cb0db5246e"
      },
      "execution_count": null,
      "outputs": [
        {
          "output_type": "stream",
          "name": "stdout",
          "text": [
            "Las predicciones son \n",
            "[4 4 3 ... 4 2 4]\n",
            "Se esperaba \n",
            "1067    4\n",
            "1143    4\n",
            "317     3\n",
            "531     2\n",
            "65      4\n",
            "       ..\n",
            "163     3\n",
            "1069    2\n",
            "743     4\n",
            "154     2\n",
            "327     4\n",
            "Name: Baselinehistological staging, Length: 4634, dtype: int64\n",
            "Accuracy= 0.9782045748813121\n"
          ]
        }
      ]
    },
    {
      "cell_type": "markdown",
      "source": [
        "### Matriz de confusion"
      ],
      "metadata": {
        "id": "UM5GCBY-BhjL"
      }
    },
    {
      "cell_type": "code",
      "source": [
        "matriz=confusion_matrix(yTest,yPredict)\n",
        "print(matriz)\n",
        "sns.heatmap(matriz,annot=True,cmap=\"Blues\")\n",
        "\n",
        "especificidad_1 = matriz[0,0]/(matriz[0,0]+matriz[0,:].sum()-matriz[0,0])\n",
        "especificidad_2 = matriz[1,1]/(matriz[1,1]+matriz[1,:].sum()-matriz[1,1])\n",
        "especificidad_3 =  matriz[2,2]/(matriz[2,2]+matriz[2,:].sum()-matriz[2,2])\n",
        "especificidad_4 =  matriz[3,3]/(matriz[3,3]+matriz[3,:].sum()-matriz[3,3])\n",
        "\n",
        "print(\"Especificidad F1:\",especificidad_1)\n",
        "print(\"Especificidad F2\",especificidad_2)\n",
        "print(\"Especificidad F3:\",especificidad_3)\n",
        "print(\"Especificidad F4:\",especificidad_4)"
      ],
      "metadata": {
        "colab": {
          "base_uri": "https://localhost:8080/",
          "height": 569
        },
        "id": "fJJDU7nuBlt_",
        "outputId": "6cba40d2-2ec1-4b18-aa22-b3d3f720dd57"
      },
      "execution_count": null,
      "outputs": [
        {
          "output_type": "stream",
          "name": "stdout",
          "text": [
            "[[1048   78    0    0]\n",
            " [   0 1173    0    0]\n",
            " [   0   23 1147    0]\n",
            " [   0    0    0 1165]]\n",
            "Especificidad F1: 0.9307282415630551\n",
            "Especificidad F2 1.0\n",
            "Especificidad F3: 0.9803418803418803\n",
            "Especificidad F4: 1.0\n"
          ]
        },
        {
          "output_type": "display_data",
          "data": {
            "text/plain": [
              "<Figure size 640x480 with 2 Axes>"
            ],
            "image/png": "[encoded data removed]"
          },
          "metadata": {}
        }
      ]
    },
    {
      "cell_type": "markdown",
      "source": [
        "### Metricas de la MSV"
      ],
      "metadata": {
        "id": "ub3mJWuNCmih"
      }
    },
    {
      "cell_type": "code",
      "source": [
        "precision_recall_fscore_support(yTest,yPredict,average=None)\n",
        "etiquetas=[\"F1\",\"F2\",\"F3\",\"F4\"]\n",
        "print(classification_report(yTest,yPredict,target_names=etiquetas, zero_division=False))\n",
        "print(\"Accuracy=\",modelo.score(XTest,yTest))"
      ],
      "metadata": {
        "colab": {
          "base_uri": "https://localhost:8080/"
        },
        "id": "sQiVxJLPCp8A",
        "outputId": "a4cada68-b7a1-4445-9477-83dc578a8064"
      },
      "execution_count": null,
      "outputs": [
        {
          "output_type": "stream",
          "name": "stdout",
          "text": [
            "              precision    recall  f1-score   support\n",
            "\n",
            "          F1       1.00      0.93      0.96      1126\n",
            "          F2       0.92      1.00      0.96      1173\n",
            "          F3       1.00      0.98      0.99      1170\n",
            "          F4       1.00      1.00      1.00      1165\n",
            "\n",
            "    accuracy                           0.98      4634\n",
            "   macro avg       0.98      0.98      0.98      4634\n",
            "weighted avg       0.98      0.98      0.98      4634\n",
            "\n",
            "Accuracy= 0.9782045748813121\n"
          ]
        }
      ]
    },
    {
      "cell_type": "markdown",
      "source": [
        "### Corriendo el modelo eliminado las variables que no tienen en cuenta en la OMS"
      ],
      "metadata": {
        "id": "Ak3CGsyZw4-B"
      }
    },
    {
      "cell_type": "code",
      "source": [
        "dataframecopia2.dropna()\n",
        "y=dataframecopia2['Baselinehistological staging']\n",
        "x=dataframecopia2.drop(['Age ','BMI','WBC', 'RBC','HGB','Plat','AST 1','ALT 1','ALT4','ALT 12','ALT 24','ALT 36','ALT 48','ALT after 24 w','RNA Base','RNA 4','RNA 12','RNA EOT','RNA EF','Baselinehistological staging','Baseline histological Grading'],axis=1)\n",
        "\n",
        "num_rep=4\n",
        "datasets_equilibrados=[]\n",
        "for i in range(2**num_rep):\n",
        "  smote = SMOTE(random_state=i)\n",
        "  x_resampled, y_resampled= smote.fit_resample(x,y)\n",
        "  datasets_equilibrados.append({'x':x_resampled , 'y':y_resampled})\n",
        "\n",
        "x_combinados= pd.concat([data['x'] for data in datasets_equilibrados], axis=0)\n",
        "y_combinados= pd.concat([data['y'] for data in datasets_equilibrados], axis=0)\n",
        "XTrain,XTest,yTrain,yTest=train_test_split(x_combinados,y_combinados,test_size=0.2,random_state=6)\n",
        "x=dataframecopia2\n",
        "XTrain,XTest,yTrain,yTest=train_test_split(x,y,test_size=0.2,random_state=6)\n",
        "modelo=SVC(kernel='rbf',decision_function_shape='ovr',degree=27,gamma='auto',random_state=27)\n",
        "modelo.fit(XTrain,yTrain)\n",
        "yPredict=modelo.predict(XTest)\n",
        "print(\"Las predicciones son \")\n",
        "print(yPredict)\n",
        "print(\"Se esperaba \")\n",
        "print(yTest)\n",
        "print(\"Accuracy=\",metrics.accuracy_score(yTest,yPredict))\n",
        "\n"
      ],
      "metadata": {
        "colab": {
          "base_uri": "https://localhost:8080/"
        },
        "outputId": "8e711254-2bae-45ff-ad24-e88f8183b42e",
        "id": "smrHpB0vl8g9"
      },
      "execution_count": null,
      "outputs": [
        {
          "output_type": "stream",
          "name": "stdout",
          "text": [
            "Las predicciones son \n",
            "[4 4 4 4 4 4 4 4 4 4 4 4 4 4 4 4 4 4 4 4 4 4 4 4 4 4 4 4 4 4 4 4 4 4 4 4 4\n",
            " 4 4 4 4 4 4 4 4 4 4 4 4 4 4 4 4 4 4 4 4 4 4 4 4 4 4 4 4 4 4 4 4 4 4 4 4 4\n",
            " 4 4 4 4 4 4 4 4 4 4 4 4 4 4 4 4 4 4 4 4 4 4 4 4 4 4 4 4 4 4 4 4 4 4 4 4 4\n",
            " 4 4 4 4 4 4 4 4 4 4 4 4 4 4 4 4 4 4 4 4 4 4 4 4 4 4 4 4 4 4 4 4 4 4 4 4 4\n",
            " 4 4 4 4 4 4 4 4 4 4 4 4 4 4 4 4 4 4 4 4 4 4 4 4 4 4 4 4 4 4 4 4 4 4 4 4 4\n",
            " 4 4 4 4 4 4 4 4 4 4 4 4 4 4 4 4 4 4 4 4 4 4 4 4 4 4 4 4 4 4 4 4 4 4 4 4 4\n",
            " 4 4 4 4 4 4 4 4 4 4 4 4 4 4 4 4 4 4 4 4 4 4 4 4 4 4 4 4 4 4 4 4 4 4 4 4 4\n",
            " 4 4 4 4 4 4 4 4 4 4 4 4 4 4 4 4 4 4]\n",
            "Se esperaba \n",
            "584     4\n",
            "268     2\n",
            "264     4\n",
            "732     4\n",
            "670     4\n",
            "       ..\n",
            "1285    4\n",
            "1034    2\n",
            "85      2\n",
            "1129    4\n",
            "465     1\n",
            "Name: Baselinehistological staging, Length: 277, dtype: int64\n",
            "Accuracy= 0.26714801444043323\n"
          ]
        }
      ]
    },
    {
      "cell_type": "markdown",
      "source": [
        "### Matriz de confusión con solo las variables de la OMS"
      ],
      "metadata": {
        "id": "Ig3kXSazxZN_"
      }
    },
    {
      "cell_type": "code",
      "source": [
        "matriz=confusion_matrix(yTest,yPredict)\n",
        "print(matriz)\n",
        "sns.heatmap(matriz,annot=True,cmap=\"Blues\")\n",
        "\n",
        "especificidad_1 = matriz[0,0]/(matriz[0,0]+matriz[0,:].sum()-matriz[0,0])\n",
        "especificidad_2 = matriz[1,1]/(matriz[1,1]+matriz[1,:].sum()-matriz[1,1])\n",
        "especificidad_3 =  matriz[2,2]/(matriz[2,2]+matriz[2,:].sum()-matriz[2,2])\n",
        "especificidad_4 =  matriz[3,3]/(matriz[3,3]+matriz[3,:].sum()-matriz[3,3])\n",
        "\n",
        "print(\"Especificidad F1:\",especificidad_1)\n",
        "print(\"Especificidad F2\",especificidad_2)\n",
        "print(\"Especificidad F3:\",especificidad_3)\n",
        "print(\"Especificidad F4:\",especificidad_4)"
      ],
      "metadata": {
        "colab": {
          "base_uri": "https://localhost:8080/",
          "height": 569
        },
        "id": "myICZSMEpVVU",
        "outputId": "3f3e6295-ee75-447c-b0bd-cd2c9a0c778f"
      },
      "execution_count": null,
      "outputs": [
        {
          "output_type": "stream",
          "name": "stdout",
          "text": [
            "[[ 0  0  0 79]\n",
            " [ 0  0  0 56]\n",
            " [ 0  0  0 68]\n",
            " [ 0  0  0 74]]\n",
            "Especificidad F1: 0.0\n",
            "Especificidad F2 0.0\n",
            "Especificidad F3: 0.0\n",
            "Especificidad F4: 1.0\n"
          ]
        },
        {
          "output_type": "display_data",
          "data": {
            "text/plain": [
              "<Figure size 640x480 with 2 Axes>"
            ],
            "image/png": "[encoded data removed]"
          },
          "metadata": {}
        }
      ]
    },
    {
      "cell_type": "markdown",
      "source": [
        "### Métricas del modelos solo con los campos de la OMS"
      ],
      "metadata": {
        "id": "nvpL8dHpxev9"
      }
    },
    {
      "cell_type": "code",
      "source": [
        "precision_recall_fscore_support(yTest,yPredict,average=None)\n",
        "etiquetas=[\"F1\",\"F2\",\"F3\",\"F4\"]\n",
        "print(classification_report(yTest,yPredict,target_names=etiquetas, zero_division=False ))\n",
        "print(\"Accuracy=\",modelo.score(XTest,yTest))"
      ],
      "metadata": {
        "colab": {
          "base_uri": "https://localhost:8080/"
        },
        "id": "N5Z1OvBKCjdS",
        "outputId": "ee8b839e-197e-467e-e24b-84d489a6df53"
      },
      "execution_count": null,
      "outputs": [
        {
          "output_type": "stream",
          "name": "stdout",
          "text": [
            "              precision    recall  f1-score   support\n",
            "\n",
            "          F1       0.00      0.00      0.00        79\n",
            "          F2       0.00      0.00      0.00        56\n",
            "          F3       0.00      0.00      0.00        68\n",
            "          F4       0.27      1.00      0.42        74\n",
            "\n",
            "    accuracy                           0.27       277\n",
            "   macro avg       0.07      0.25      0.11       277\n",
            "weighted avg       0.07      0.27      0.11       277\n",
            "\n",
            "Accuracy= 0.26714801444043323\n"
          ]
        },
        {
          "output_type": "stream",
          "name": "stderr",
          "text": [
            "/usr/local/lib/python3.10/dist-packages/sklearn/metrics/_classification.py:1344: UndefinedMetricWarning: Precision and F-score are ill-defined and being set to 0.0 in labels with no predicted samples. Use `zero_division` parameter to control this behavior.\n",
            "  _warn_prf(average, modifier, msg_start, len(result))\n"
          ]
        }
      ]
    }
  ]
}